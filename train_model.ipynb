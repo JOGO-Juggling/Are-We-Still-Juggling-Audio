{
 "cells": [
  {
   "cell_type": "code",
   "execution_count": 1,
   "metadata": {},
   "outputs": [],
   "source": [
    "%matplotlib inline\n",
    "import torch\n",
    "import torch.nn as nn\n",
    "import torch.optim as optim\n",
    "import torchvision.transforms as tfs\n",
    "\n",
    "import matplotlib.pyplot as plt\n",
    "import numpy as np\n",
    "import random\n",
    "import json\n",
    "import time\n",
    "\n",
    "import math\n",
    "from models import LogisticRegressor, Convolutional\n",
    "from run_pipeline import main"
   ]
  },
  {
   "cell_type": "code",
   "execution_count": 2,
   "metadata": {},
   "outputs": [],
   "source": [
    "N_EPOCHS = 1000\n",
    "F_RANGE = (2, 14)\n",
    "W_RANGE = (-4, 1)\n",
    "W_CENTER = 10"
   ]
  },
  {
   "cell_type": "code",
   "execution_count": 3,
   "metadata": {},
   "outputs": [],
   "source": [
    "n_features = abs(F_RANGE[1] - F_RANGE[0])\n",
    "win_dim = abs(W_RANGE[1] - W_RANGE[0])"
   ]
  },
  {
   "cell_type": "code",
   "execution_count": 4,
   "metadata": {
    "tags": []
   },
   "outputs": [
    {
     "output_type": "stream",
     "name": "stdout",
     "text": "Extracted 2510 train points and 323 test points (944 true and 1889 false) from 10 videos\n"
    }
   ],
   "source": [
    "train_data = []\n",
    "test_data = []\n",
    "n_true, n_false = 0, 0\n",
    "n_videos = 0\n",
    "\n",
    "def construct_tensors(matrix, state):\n",
    "    w_range = (W_RANGE[0] + W_CENTER, W_CENTER + W_RANGE[1])\n",
    "    matrix = np.abs(np.array(matrix))\n",
    "    c_matrix = matrix[w_range[0]:w_range[1], F_RANGE[0]:F_RANGE[1]]\n",
    "    # matrix_norm = matrix / np.linalg.norm(matrix, axis=1)[:,np.newaxis]\n",
    "\n",
    "    x0 = torch.FloatTensor(matrix[W_CENTER, F_RANGE[0]:F_RANGE[1]].flatten())\n",
    "    x1 = torch.FloatTensor([c_matrix])\n",
    "    y = torch.tensor(state)\n",
    "    return (x0, x1, y)\n",
    "\n",
    "with open('data/mfccs.json') as f:\n",
    "    json_data = json.load(f)\n",
    "    n_videos = len(json_data)\n",
    "\n",
    "    # Loop over all videos in dataset\n",
    "    for i, video in enumerate(json_data):\n",
    "        video_data = json_data[video]\n",
    "\n",
    "        # Loop over all bounces for current video\n",
    "        for matrix in video_data['true']:\n",
    "            if matrix != []:\n",
    "                if i < 9:\n",
    "                    train_data.append(construct_tensors(matrix, 1))\n",
    "                else:\n",
    "                    test_data.append(construct_tensors(matrix, 1))\n",
    "                n_true += 1\n",
    "\n",
    "        for matrix in video_data['false']:\n",
    "            if matrix != []:# and n_false < n_true:\n",
    "                if i < 9:\n",
    "                    train_data.append(construct_tensors(matrix, 0))\n",
    "                else:\n",
    "                    test_data.append(construct_tensors(matrix, 0))\n",
    "                n_false += 1\n",
    "\n",
    "print(f'Extracted {len(train_data)} train points and {len(test_data)} test points ({n_true} true and {n_false} false) from {n_videos} videos')"
   ]
  },
  {
   "cell_type": "code",
   "execution_count": 5,
   "metadata": {
    "tags": []
   },
   "outputs": [
    {
     "output_type": "stream",
     "name": "stdout",
     "text": "torch.Size([12])\ntorch.Size([1, 5, 12])\n"
    }
   ],
   "source": [
    "print(train_data[0][0].shape)\n",
    "print(train_data[0][1].shape)"
   ]
  },
  {
   "cell_type": "code",
   "execution_count": 6,
   "metadata": {},
   "outputs": [],
   "source": [
    "train_loader = torch.utils.data.DataLoader(dataset=train_data,\n",
    "                                           batch_size=64,\n",
    "                                           shuffle=True)\n",
    "test_loader = torch.utils.data.DataLoader(dataset=test_data,\n",
    "                                           batch_size=64,\n",
    "                                           shuffle=True)"
   ]
  },
  {
   "cell_type": "code",
   "execution_count": 7,
   "metadata": {
    "tags": []
   },
   "outputs": [
    {
     "output_type": "stream",
     "name": "stdout",
     "text": "Device: cuda:0\n"
    }
   ],
   "source": [
    "device = torch.device(\"cuda:0\" if (torch.cuda.is_available()) else \"cpu\")\n",
    "print(f'Device: {device}')"
   ]
  },
  {
   "cell_type": "code",
   "execution_count": 8,
   "metadata": {
    "tags": []
   },
   "outputs": [
    {
     "output_type": "stream",
     "name": "stdout",
     "text": "n_params=1142\nn_params=396\n"
    }
   ],
   "source": [
    "regressor, conv = LogisticRegressor(n_features, 1, 2).to(device), Convolutional(n_features, win_dim, 2).to(device)\n",
    "print(f'n_params={sum(p.numel() for p in regressor.parameters())}')\n",
    "print(f'n_params={sum(p.numel() for p in conv.parameters())}')"
   ]
  },
  {
   "cell_type": "code",
   "execution_count": 9,
   "metadata": {},
   "outputs": [],
   "source": [
    "optis = [optim.Adam(regressor.parameters(), lr=0.001), optim.SGD(conv.parameters(), lr=0.001)]\n",
    "crits = [nn.CrossEntropyLoss(), nn.CrossEntropyLoss()]"
   ]
  },
  {
   "cell_type": "code",
   "execution_count": 10,
   "metadata": {},
   "outputs": [],
   "source": [
    "def accuracy(model, data, inds):\n",
    "    x, y = inds\n",
    "    correct, total = 0, 0\n",
    "    for xxy in data:\n",
    "        y_hat = model(xxy[x].to(device))\n",
    "        _, predicted = torch.max(y_hat.data, 1)\n",
    "        \n",
    "        total += xxy[y].size(0)\n",
    "        correct += (predicted.cpu() == xxy[y]).sum()\n",
    "\n",
    "    return 100 * int(correct) / total\n",
    "\n",
    "def confusion(model, data, inds):\n",
    "    x, y = inds\n",
    "    matrix = np.array([[0, 0], [0, 0]])\n",
    "    exampl = [[[], []], [], []]\n",
    "    for xxy in data:\n",
    "        y_hat = model(xxy[x].to(device))\n",
    "        _, predicted = torch.max(y_hat.data, 1)\n",
    "        predicted = predicted.cpu()\n",
    "\n",
    "        matrix[0, 0] += torch.sum((xxy[y] == 1) & (predicted == 1))\n",
    "        matrix[0, 1] += torch.sum((xxy[y] == 0) & (predicted == 1))\n",
    "        matrix[1, 0] += torch.sum((xxy[y] == 1) & (predicted == 0))\n",
    "        matrix[1, 1] += torch.sum((xxy[y] == 0) & (predicted == 0))\n",
    "\n",
    "    return matrix\n",
    "\n",
    "def recall(model, data, inds):\n",
    "    x, y = inds\n",
    "    tp, fn = 0, 0\n",
    "    for xxy in data:\n",
    "        y_hat = model(xxy[x].to(device))\n",
    "        _, predicted = torch.max(y_hat.data, 1)\n",
    "\n",
    "        tp += torch.sum((xxy[y] == 1) & (predicted.cpu() == 1))\n",
    "        fn += torch.sum((xxy[y] == 1) & (predicted.cpu() == 0))\n",
    "    return int(tp) / (int(tp) + int(fn))\n"
   ]
  },
  {
   "cell_type": "code",
   "execution_count": 11,
   "metadata": {
    "tags": []
   },
   "outputs": [
    {
     "output_type": "stream",
     "name": "stdout",
     "text": "torch.Size([64, 2, 1, 8])\n"
    },
    {
     "output_type": "error",
     "ename": "RuntimeError",
     "evalue": "shape '[-1, 24]' is invalid for input of size 1024",
     "traceback": [
      "\u001b[0;31m---------------------------------------------------------------------------\u001b[0m",
      "\u001b[0;31mRuntimeError\u001b[0m                              Traceback (most recent call last)",
      "\u001b[0;32m<ipython-input-11-3504451b7c69>\u001b[0m in \u001b[0;36m<module>\u001b[0;34m\u001b[0m\n\u001b[1;32m     11\u001b[0m         \u001b[0;31m# Make prediction and calculate loss\u001b[0m\u001b[0;34m\u001b[0m\u001b[0;34m\u001b[0m\u001b[0;34m\u001b[0m\u001b[0m\n\u001b[1;32m     12\u001b[0m         \u001b[0my_hat0\u001b[0m \u001b[0;34m=\u001b[0m \u001b[0mregressor\u001b[0m\u001b[0;34m(\u001b[0m\u001b[0mx0\u001b[0m\u001b[0;34m.\u001b[0m\u001b[0mto\u001b[0m\u001b[0;34m(\u001b[0m\u001b[0mdevice\u001b[0m\u001b[0;34m)\u001b[0m\u001b[0;34m)\u001b[0m\u001b[0;34m.\u001b[0m\u001b[0mcpu\u001b[0m\u001b[0;34m(\u001b[0m\u001b[0;34m)\u001b[0m\u001b[0;34m\u001b[0m\u001b[0;34m\u001b[0m\u001b[0m\n\u001b[0;32m---> 13\u001b[0;31m         \u001b[0my_hat1\u001b[0m \u001b[0;34m=\u001b[0m \u001b[0mconv\u001b[0m\u001b[0;34m(\u001b[0m\u001b[0mx1\u001b[0m\u001b[0;34m.\u001b[0m\u001b[0mto\u001b[0m\u001b[0;34m(\u001b[0m\u001b[0mdevice\u001b[0m\u001b[0;34m)\u001b[0m\u001b[0;34m)\u001b[0m\u001b[0;34m.\u001b[0m\u001b[0mcpu\u001b[0m\u001b[0;34m(\u001b[0m\u001b[0;34m)\u001b[0m\u001b[0;34m\u001b[0m\u001b[0;34m\u001b[0m\u001b[0m\n\u001b[0m\u001b[1;32m     14\u001b[0m \u001b[0;34m\u001b[0m\u001b[0m\n\u001b[1;32m     15\u001b[0m         \u001b[0mloss0\u001b[0m \u001b[0;34m=\u001b[0m \u001b[0mcrits\u001b[0m\u001b[0;34m[\u001b[0m\u001b[0;36m0\u001b[0m\u001b[0;34m]\u001b[0m\u001b[0;34m(\u001b[0m\u001b[0my_hat0\u001b[0m\u001b[0;34m,\u001b[0m \u001b[0my\u001b[0m\u001b[0;34m)\u001b[0m\u001b[0;34m\u001b[0m\u001b[0;34m\u001b[0m\u001b[0m\n",
      "\u001b[0;32m/media/sam/Development/are-we-still-juggling-audio/venv/lib/python3.8/site-packages/torch/nn/modules/module.py\u001b[0m in \u001b[0;36m_call_impl\u001b[0;34m(self, *input, **kwargs)\u001b[0m\n\u001b[1;32m    720\u001b[0m             \u001b[0mresult\u001b[0m \u001b[0;34m=\u001b[0m \u001b[0mself\u001b[0m\u001b[0;34m.\u001b[0m\u001b[0m_slow_forward\u001b[0m\u001b[0;34m(\u001b[0m\u001b[0;34m*\u001b[0m\u001b[0minput\u001b[0m\u001b[0;34m,\u001b[0m \u001b[0;34m**\u001b[0m\u001b[0mkwargs\u001b[0m\u001b[0;34m)\u001b[0m\u001b[0;34m\u001b[0m\u001b[0;34m\u001b[0m\u001b[0m\n\u001b[1;32m    721\u001b[0m         \u001b[0;32melse\u001b[0m\u001b[0;34m:\u001b[0m\u001b[0;34m\u001b[0m\u001b[0;34m\u001b[0m\u001b[0m\n\u001b[0;32m--> 722\u001b[0;31m             \u001b[0mresult\u001b[0m \u001b[0;34m=\u001b[0m \u001b[0mself\u001b[0m\u001b[0;34m.\u001b[0m\u001b[0mforward\u001b[0m\u001b[0;34m(\u001b[0m\u001b[0;34m*\u001b[0m\u001b[0minput\u001b[0m\u001b[0;34m,\u001b[0m \u001b[0;34m**\u001b[0m\u001b[0mkwargs\u001b[0m\u001b[0;34m)\u001b[0m\u001b[0;34m\u001b[0m\u001b[0;34m\u001b[0m\u001b[0m\n\u001b[0m\u001b[1;32m    723\u001b[0m         for hook in itertools.chain(\n\u001b[1;32m    724\u001b[0m                 \u001b[0m_global_forward_hooks\u001b[0m\u001b[0;34m.\u001b[0m\u001b[0mvalues\u001b[0m\u001b[0;34m(\u001b[0m\u001b[0;34m)\u001b[0m\u001b[0;34m,\u001b[0m\u001b[0;34m\u001b[0m\u001b[0;34m\u001b[0m\u001b[0m\n",
      "\u001b[0;32m/media/sam/Development/are-we-still-juggling-audio/models.py\u001b[0m in \u001b[0;36mforward\u001b[0;34m(self, x)\u001b[0m\n\u001b[1;32m     34\u001b[0m         \u001b[0my\u001b[0m \u001b[0;34m=\u001b[0m \u001b[0mself\u001b[0m\u001b[0;34m.\u001b[0m\u001b[0ml1\u001b[0m\u001b[0;34m(\u001b[0m\u001b[0my\u001b[0m\u001b[0;34m)\u001b[0m\u001b[0;34m\u001b[0m\u001b[0;34m\u001b[0m\u001b[0m\n\u001b[1;32m     35\u001b[0m         \u001b[0mprint\u001b[0m\u001b[0;34m(\u001b[0m\u001b[0my\u001b[0m\u001b[0;34m.\u001b[0m\u001b[0mshape\u001b[0m\u001b[0;34m)\u001b[0m\u001b[0;34m\u001b[0m\u001b[0;34m\u001b[0m\u001b[0m\n\u001b[0;32m---> 36\u001b[0;31m         \u001b[0my\u001b[0m \u001b[0;34m=\u001b[0m \u001b[0my\u001b[0m\u001b[0;34m.\u001b[0m\u001b[0mview\u001b[0m\u001b[0;34m(\u001b[0m\u001b[0;34m-\u001b[0m\u001b[0;36m1\u001b[0m\u001b[0;34m,\u001b[0m \u001b[0;36m2\u001b[0m \u001b[0;34m*\u001b[0m \u001b[0;34m(\u001b[0m\u001b[0mself\u001b[0m\u001b[0;34m.\u001b[0m\u001b[0m_in_dim\u001b[0m\u001b[0;34m)\u001b[0m\u001b[0;34m)\u001b[0m\u001b[0;34m\u001b[0m\u001b[0;34m\u001b[0m\u001b[0m\n\u001b[0m\u001b[1;32m     37\u001b[0m         \u001b[0mprint\u001b[0m\u001b[0;34m(\u001b[0m\u001b[0my\u001b[0m\u001b[0;34m.\u001b[0m\u001b[0mshape\u001b[0m\u001b[0;34m)\u001b[0m\u001b[0;34m\u001b[0m\u001b[0;34m\u001b[0m\u001b[0m\n\u001b[1;32m     38\u001b[0m         \u001b[0my\u001b[0m \u001b[0;34m=\u001b[0m \u001b[0mself\u001b[0m\u001b[0;34m.\u001b[0m\u001b[0ml2\u001b[0m\u001b[0;34m(\u001b[0m\u001b[0my\u001b[0m\u001b[0;34m)\u001b[0m\u001b[0;34m\u001b[0m\u001b[0;34m\u001b[0m\u001b[0m\n",
      "\u001b[0;31mRuntimeError\u001b[0m: shape '[-1, 24]' is invalid for input of size 1024"
     ]
    }
   ],
   "source": [
    "accuracy_histories = [[], []]\n",
    "n_iters = 0\n",
    "start = time.time()\n",
    "\n",
    "for epoch in range(1, N_EPOCHS + 1):\n",
    "    for i, (x0, x1, y) in enumerate(train_loader):\n",
    "        # Clear gradients\n",
    "        optis[0].zero_grad()\n",
    "        optis[1].zero_grad()\n",
    "\n",
    "        # Make prediction and calculate loss\n",
    "        y_hat0 = regressor(x0.to(device)).cpu()\n",
    "        y_hat1 = conv(x1.to(device)).cpu()\n",
    "\n",
    "        loss0 = crits[0](y_hat0, y)\n",
    "        loss1 = crits[1](y_hat1, y)\n",
    "\n",
    "        # Calculate new gradients and optimize\n",
    "        loss0.backward()\n",
    "        loss1.backward()\n",
    "\n",
    "        optis[0].step()\n",
    "        optis[1].step()\n",
    "\n",
    "        if n_iters % 10 == 0:\n",
    "            acc0 = accuracy(regressor, train_loader, (0, 2))\n",
    "            acc1 = accuracy(regressor, test_loader, (0, 2))\n",
    "            acc2 = accuracy(conv, train_loader, (1, 2))\n",
    "            acc3 = accuracy(conv, test_loader, (1, 2))\n",
    "\n",
    "            accuracy_histories[0].append(acc0)\n",
    "            accuracy_histories[1].append(acc2)\n",
    "            \n",
    "            fepoch = 'Epoch: \\033[92m{}\\033[0m/\\033[92m{}\\033[0m'.format(epoch, N_EPOCHS)\n",
    "            fiters = 'Iter: \\033[92m{}\\033[0m'.format(n_iters)\n",
    "            facc0 = 'Acc0: \\033[92m{:.2f}%\\033[0m, \\033[92m{:.2f}%\\033[0m'.format(acc0, acc1)\n",
    "            facc1 = 'Acc1: \\033[92m{:.2f}%\\033[0m, \\033[92m{:.2f}%\\033[0m'.format(acc2, acc3)\n",
    "\n",
    "            fptime = 'Time: \\033[92m{:.0f}\\033[0ms'.format(time.time() - start)\n",
    "            print('\\r{}\\t | {}\\t | {}\\t | {}\\t | {}\\t |'.format(fepoch, fiters, facc0, facc1, fptime), end=\"\")\n",
    "        n_iters += 1"
   ]
  },
  {
   "cell_type": "code",
   "execution_count": 12,
   "metadata": {},
   "outputs": [],
   "source": [
    "torch.save(regressor.state_dict(), 'data/models/regressor.pkl')\n",
    "torch.save(conv.state_dict(), 'data/models/convolutional.pkl')"
   ]
  },
  {
   "cell_type": "code",
   "execution_count": 13,
   "metadata": {
    "tags": []
   },
   "outputs": [
    {
     "output_type": "stream",
     "name": "stdout",
     "text": "REGRESSOR CONFUSION MATRIX:\n [[  6  23]\n [110 184]]\ntorch.Size([64, 2, 1, 8])\n"
    },
    {
     "output_type": "error",
     "ename": "RuntimeError",
     "evalue": "shape '[-1, 24]' is invalid for input of size 1024",
     "traceback": [
      "\u001b[0;31m---------------------------------------------------------------------------\u001b[0m",
      "\u001b[0;31mRuntimeError\u001b[0m                              Traceback (most recent call last)",
      "\u001b[0;32m<ipython-input-13-5a32ebc9e5ce>\u001b[0m in \u001b[0;36m<module>\u001b[0;34m\u001b[0m\n\u001b[1;32m      3\u001b[0m \u001b[0;34m\u001b[0m\u001b[0m\n\u001b[1;32m      4\u001b[0m \u001b[0mprint\u001b[0m\u001b[0;34m(\u001b[0m\u001b[0;34mf'REGRESSOR CONFUSION MATRIX:\\n {confusion(regressor, test_loader, (0, 2))}'\u001b[0m\u001b[0;34m)\u001b[0m\u001b[0;34m\u001b[0m\u001b[0;34m\u001b[0m\u001b[0m\n\u001b[0;32m----> 5\u001b[0;31m \u001b[0mprint\u001b[0m\u001b[0;34m(\u001b[0m\u001b[0;34mf'CONVOLUTIONAL CONFUSION MATRIX:\\n {confusion(conv, test_loader, (1, 2))}'\u001b[0m\u001b[0;34m)\u001b[0m\u001b[0;34m\u001b[0m\u001b[0;34m\u001b[0m\u001b[0m\n\u001b[0m\u001b[1;32m      6\u001b[0m \u001b[0;34m\u001b[0m\u001b[0m\n\u001b[1;32m      7\u001b[0m \u001b[0mget_ipython\u001b[0m\u001b[0;34m(\u001b[0m\u001b[0;34m)\u001b[0m\u001b[0;34m.\u001b[0m\u001b[0mrun_line_magic\u001b[0m\u001b[0;34m(\u001b[0m\u001b[0;34m'matplotlib'\u001b[0m\u001b[0;34m,\u001b[0m \u001b[0;34m'inline'\u001b[0m\u001b[0;34m)\u001b[0m\u001b[0;34m\u001b[0m\u001b[0;34m\u001b[0m\u001b[0m\n",
      "\u001b[0;32m<ipython-input-10-657d33c90405>\u001b[0m in \u001b[0;36mconfusion\u001b[0;34m(model, data, inds)\u001b[0m\n\u001b[1;32m     16\u001b[0m     \u001b[0mexampl\u001b[0m \u001b[0;34m=\u001b[0m \u001b[0;34m[\u001b[0m\u001b[0;34m[\u001b[0m\u001b[0;34m[\u001b[0m\u001b[0;34m]\u001b[0m\u001b[0;34m,\u001b[0m \u001b[0;34m[\u001b[0m\u001b[0;34m]\u001b[0m\u001b[0;34m]\u001b[0m\u001b[0;34m,\u001b[0m \u001b[0;34m[\u001b[0m\u001b[0;34m]\u001b[0m\u001b[0;34m,\u001b[0m \u001b[0;34m[\u001b[0m\u001b[0;34m]\u001b[0m\u001b[0;34m]\u001b[0m\u001b[0;34m\u001b[0m\u001b[0;34m\u001b[0m\u001b[0m\n\u001b[1;32m     17\u001b[0m     \u001b[0;32mfor\u001b[0m \u001b[0mxxy\u001b[0m \u001b[0;32min\u001b[0m \u001b[0mdata\u001b[0m\u001b[0;34m:\u001b[0m\u001b[0;34m\u001b[0m\u001b[0;34m\u001b[0m\u001b[0m\n\u001b[0;32m---> 18\u001b[0;31m         \u001b[0my_hat\u001b[0m \u001b[0;34m=\u001b[0m \u001b[0mmodel\u001b[0m\u001b[0;34m(\u001b[0m\u001b[0mxxy\u001b[0m\u001b[0;34m[\u001b[0m\u001b[0mx\u001b[0m\u001b[0;34m]\u001b[0m\u001b[0;34m.\u001b[0m\u001b[0mto\u001b[0m\u001b[0;34m(\u001b[0m\u001b[0mdevice\u001b[0m\u001b[0;34m)\u001b[0m\u001b[0;34m)\u001b[0m\u001b[0;34m\u001b[0m\u001b[0;34m\u001b[0m\u001b[0m\n\u001b[0m\u001b[1;32m     19\u001b[0m         \u001b[0m_\u001b[0m\u001b[0;34m,\u001b[0m \u001b[0mpredicted\u001b[0m \u001b[0;34m=\u001b[0m \u001b[0mtorch\u001b[0m\u001b[0;34m.\u001b[0m\u001b[0mmax\u001b[0m\u001b[0;34m(\u001b[0m\u001b[0my_hat\u001b[0m\u001b[0;34m.\u001b[0m\u001b[0mdata\u001b[0m\u001b[0;34m,\u001b[0m \u001b[0;36m1\u001b[0m\u001b[0;34m)\u001b[0m\u001b[0;34m\u001b[0m\u001b[0;34m\u001b[0m\u001b[0m\n\u001b[1;32m     20\u001b[0m         \u001b[0mpredicted\u001b[0m \u001b[0;34m=\u001b[0m \u001b[0mpredicted\u001b[0m\u001b[0;34m.\u001b[0m\u001b[0mcpu\u001b[0m\u001b[0;34m(\u001b[0m\u001b[0;34m)\u001b[0m\u001b[0;34m\u001b[0m\u001b[0;34m\u001b[0m\u001b[0m\n",
      "\u001b[0;32m/media/sam/Development/are-we-still-juggling-audio/venv/lib/python3.8/site-packages/torch/nn/modules/module.py\u001b[0m in \u001b[0;36m_call_impl\u001b[0;34m(self, *input, **kwargs)\u001b[0m\n\u001b[1;32m    720\u001b[0m             \u001b[0mresult\u001b[0m \u001b[0;34m=\u001b[0m \u001b[0mself\u001b[0m\u001b[0;34m.\u001b[0m\u001b[0m_slow_forward\u001b[0m\u001b[0;34m(\u001b[0m\u001b[0;34m*\u001b[0m\u001b[0minput\u001b[0m\u001b[0;34m,\u001b[0m \u001b[0;34m**\u001b[0m\u001b[0mkwargs\u001b[0m\u001b[0;34m)\u001b[0m\u001b[0;34m\u001b[0m\u001b[0;34m\u001b[0m\u001b[0m\n\u001b[1;32m    721\u001b[0m         \u001b[0;32melse\u001b[0m\u001b[0;34m:\u001b[0m\u001b[0;34m\u001b[0m\u001b[0;34m\u001b[0m\u001b[0m\n\u001b[0;32m--> 722\u001b[0;31m             \u001b[0mresult\u001b[0m \u001b[0;34m=\u001b[0m \u001b[0mself\u001b[0m\u001b[0;34m.\u001b[0m\u001b[0mforward\u001b[0m\u001b[0;34m(\u001b[0m\u001b[0;34m*\u001b[0m\u001b[0minput\u001b[0m\u001b[0;34m,\u001b[0m \u001b[0;34m**\u001b[0m\u001b[0mkwargs\u001b[0m\u001b[0;34m)\u001b[0m\u001b[0;34m\u001b[0m\u001b[0;34m\u001b[0m\u001b[0m\n\u001b[0m\u001b[1;32m    723\u001b[0m         for hook in itertools.chain(\n\u001b[1;32m    724\u001b[0m                 \u001b[0m_global_forward_hooks\u001b[0m\u001b[0;34m.\u001b[0m\u001b[0mvalues\u001b[0m\u001b[0;34m(\u001b[0m\u001b[0;34m)\u001b[0m\u001b[0;34m,\u001b[0m\u001b[0;34m\u001b[0m\u001b[0;34m\u001b[0m\u001b[0m\n",
      "\u001b[0;32m/media/sam/Development/are-we-still-juggling-audio/models.py\u001b[0m in \u001b[0;36mforward\u001b[0;34m(self, x)\u001b[0m\n\u001b[1;32m     34\u001b[0m         \u001b[0my\u001b[0m \u001b[0;34m=\u001b[0m \u001b[0mself\u001b[0m\u001b[0;34m.\u001b[0m\u001b[0ml1\u001b[0m\u001b[0;34m(\u001b[0m\u001b[0my\u001b[0m\u001b[0;34m)\u001b[0m\u001b[0;34m\u001b[0m\u001b[0;34m\u001b[0m\u001b[0m\n\u001b[1;32m     35\u001b[0m         \u001b[0mprint\u001b[0m\u001b[0;34m(\u001b[0m\u001b[0my\u001b[0m\u001b[0;34m.\u001b[0m\u001b[0mshape\u001b[0m\u001b[0;34m)\u001b[0m\u001b[0;34m\u001b[0m\u001b[0;34m\u001b[0m\u001b[0m\n\u001b[0;32m---> 36\u001b[0;31m         \u001b[0my\u001b[0m \u001b[0;34m=\u001b[0m \u001b[0my\u001b[0m\u001b[0;34m.\u001b[0m\u001b[0mview\u001b[0m\u001b[0;34m(\u001b[0m\u001b[0;34m-\u001b[0m\u001b[0;36m1\u001b[0m\u001b[0;34m,\u001b[0m \u001b[0;36m2\u001b[0m \u001b[0;34m*\u001b[0m \u001b[0;34m(\u001b[0m\u001b[0mself\u001b[0m\u001b[0;34m.\u001b[0m\u001b[0m_in_dim\u001b[0m\u001b[0;34m)\u001b[0m\u001b[0;34m)\u001b[0m\u001b[0;34m\u001b[0m\u001b[0;34m\u001b[0m\u001b[0m\n\u001b[0m\u001b[1;32m     37\u001b[0m         \u001b[0mprint\u001b[0m\u001b[0;34m(\u001b[0m\u001b[0my\u001b[0m\u001b[0;34m.\u001b[0m\u001b[0mshape\u001b[0m\u001b[0;34m)\u001b[0m\u001b[0;34m\u001b[0m\u001b[0;34m\u001b[0m\u001b[0m\n\u001b[1;32m     38\u001b[0m         \u001b[0my\u001b[0m \u001b[0;34m=\u001b[0m \u001b[0mself\u001b[0m\u001b[0;34m.\u001b[0m\u001b[0ml2\u001b[0m\u001b[0;34m(\u001b[0m\u001b[0my\u001b[0m\u001b[0;34m)\u001b[0m\u001b[0;34m\u001b[0m\u001b[0;34m\u001b[0m\u001b[0m\n",
      "\u001b[0;31mRuntimeError\u001b[0m: shape '[-1, 24]' is invalid for input of size 1024"
     ]
    }
   ],
   "source": [
    "regressor.eval()\n",
    "conv.eval()\n",
    "\n",
    "print(f'REGRESSOR CONFUSION MATRIX:\\n {confusion(regressor, test_loader, (0, 2))}')\n",
    "print(f'CONVOLUTIONAL CONFUSION MATRIX:\\n {confusion(conv, test_loader, (1, 2))}')\n",
    "\n",
    "%matplotlib inline\n",
    "x0, x1 = np.arange(len(accuracy_histories[0])), np.arange(len(accuracy_histories[1]))\n",
    "plt.plot(x0, accuracy_histories[0], label='regressor')\n",
    "plt.plot(x1, accuracy_histories[1], label='convolutional')\n",
    "plt.legend()\n",
    "plt.show()"
   ]
  },
  {
   "cell_type": "code",
   "execution_count": 14,
   "metadata": {
    "tags": []
   },
   "outputs": [
    {
     "output_type": "stream",
     "name": "stdout",
     "text": "tensor(1)\ntensor(1)\ntensor(1)\ntensor(1)\ntensor(1)\ntensor(1)\ntensor(0)\ntensor(0)\ntensor(0)\ntensor(0)\n"
    }
   ],
   "source": [
    "fig = plt.figure()\n",
    "for i in range(10):\n",
    "    print(test_data[i + 110][2])\n",
    "    plt.imshow(np.rot90(test_data[i + 110][1][0]))\n",
    "    plt.show()"
   ]
  }
 ],
 "metadata": {
  "kernelspec": {
   "display_name": "jogo-audio",
   "language": "python",
   "name": "jogo-audio"
  },
  "language_info": {
   "codemirror_mode": {
    "name": "ipython",
    "version": 3
   },
   "file_extension": ".py",
   "mimetype": "text/x-python",
   "name": "python",
   "nbconvert_exporter": "python",
   "pygments_lexer": "ipython3",
   "version": "3.8.2-final"
  }
 },
 "nbformat": 4,
 "nbformat_minor": 2
}